{
 "cells": [
  {
   "cell_type": "code",
   "execution_count": null,
   "id": "04077c22",
   "metadata": {},
   "outputs": [],
   "source": [
    "# Scope and life time of a Variable"
   ]
  },
  {
   "cell_type": "code",
   "execution_count": 1,
   "id": "2963b72c",
   "metadata": {},
   "outputs": [],
   "source": [
    "def add_num():\n",
    "    a = 5\n",
    "    b = 6\n",
    "    return a + b\n"
   ]
  },
  {
   "cell_type": "code",
   "execution_count": 2,
   "id": "6cbe5f12",
   "metadata": {},
   "outputs": [
    {
     "data": {
      "text/plain": [
       "11"
      ]
     },
     "execution_count": 2,
     "metadata": {},
     "output_type": "execute_result"
    }
   ],
   "source": [
    "add_num()"
   ]
  },
  {
   "cell_type": "code",
   "execution_count": 4,
   "id": "431b7493",
   "metadata": {},
   "outputs": [],
   "source": [
    "def add_num():\n",
    "    a = 5 # local variable scope of this variable is limited to the function.We cannot access the varible outside of the function\n",
    "    b = 6 # local variable\n",
    "    print(a)\n",
    "    print(b)\n",
    "    return a + b\n",
    "\n",
    "print(a)\n",
    "print(b)"
   ]
  },
  {
   "cell_type": "code",
   "execution_count": 5,
   "id": "be6645c8",
   "metadata": {},
   "outputs": [
    {
     "name": "stdout",
     "output_type": "stream",
     "text": [
      "5\n",
      "6\n"
     ]
    },
    {
     "data": {
      "text/plain": [
       "11"
      ]
     },
     "execution_count": 5,
     "metadata": {},
     "output_type": "execute_result"
    }
   ],
   "source": [
    "add_num()"
   ]
  },
  {
   "cell_type": "code",
   "execution_count": 6,
   "id": "bad07b55",
   "metadata": {},
   "outputs": [
    {
     "ename": "NameError",
     "evalue": "name 'a' is not defined",
     "output_type": "error",
     "traceback": [
      "\u001b[0;31m---------------------------------------------------------------------------\u001b[0m",
      "\u001b[0;31mNameError\u001b[0m                                 Traceback (most recent call last)",
      "Cell \u001b[0;32mIn[6], line 1\u001b[0m\n\u001b[0;32m----> 1\u001b[0m \u001b[38;5;28mprint\u001b[39m(a)\n",
      "\u001b[0;31mNameError\u001b[0m: name 'a' is not defined"
     ]
    }
   ],
   "source": [
    "print(a)"
   ]
  },
  {
   "cell_type": "code",
   "execution_count": 9,
   "id": "d2ce076e",
   "metadata": {},
   "outputs": [
    {
     "name": "stdout",
     "output_type": "stream",
     "text": [
      "10\n"
     ]
    }
   ],
   "source": [
    "\n",
    "c = 10 # global variable \n",
    "def add_num():\n",
    "    a = 5\n",
    "    b = 6\n",
    "    print(c)\n",
    "    \n",
    "    return a + b + c\n",
    "\n",
    "print(c)\n"
   ]
  },
  {
   "cell_type": "code",
   "execution_count": 10,
   "id": "16b76784",
   "metadata": {},
   "outputs": [
    {
     "name": "stdout",
     "output_type": "stream",
     "text": [
      "10\n"
     ]
    },
    {
     "data": {
      "text/plain": [
       "21"
      ]
     },
     "execution_count": 10,
     "metadata": {},
     "output_type": "execute_result"
    }
   ],
   "source": [
    "add_num()"
   ]
  },
  {
   "cell_type": "code",
   "execution_count": 11,
   "id": "35ca2df1",
   "metadata": {},
   "outputs": [],
   "source": [
    "global_var = \"This is global variable\"\n",
    "\n",
    "def test_life_time():\n",
    "    '''\n",
    "    This function test the life time of a variable\n",
    "    \n",
    "    '''\n",
    "    local_var = \"This is local variable\"\n",
    "    \n",
    "    print(local_var)\n",
    "    \n",
    "    print(global_var)\n",
    "        "
   ]
  },
  {
   "cell_type": "code",
   "execution_count": 12,
   "id": "badef765",
   "metadata": {},
   "outputs": [
    {
     "name": "stdout",
     "output_type": "stream",
     "text": [
      "This is local variable\n",
      "This is global variable\n"
     ]
    }
   ],
   "source": [
    "test_life_time()"
   ]
  },
  {
   "cell_type": "code",
   "execution_count": 13,
   "id": "d748d7fb",
   "metadata": {},
   "outputs": [
    {
     "name": "stdout",
     "output_type": "stream",
     "text": [
      "This is global variable\n"
     ]
    }
   ],
   "source": [
    "print(global_var)"
   ]
  },
  {
   "cell_type": "code",
   "execution_count": 14,
   "id": "fddc6627",
   "metadata": {},
   "outputs": [
    {
     "ename": "NameError",
     "evalue": "name 'local_var' is not defined",
     "output_type": "error",
     "traceback": [
      "\u001b[0;31m---------------------------------------------------------------------------\u001b[0m",
      "\u001b[0;31mNameError\u001b[0m                                 Traceback (most recent call last)",
      "Cell \u001b[0;32mIn[14], line 1\u001b[0m\n\u001b[0;32m----> 1\u001b[0m \u001b[38;5;28mprint\u001b[39m(local_var)\n",
      "\u001b[0;31mNameError\u001b[0m: name 'local_var' is not defined"
     ]
    }
   ],
   "source": [
    "print(local_var)"
   ]
  },
  {
   "cell_type": "code",
   "execution_count": 17,
   "id": "95ea7d76",
   "metadata": {},
   "outputs": [],
   "source": [
    "global_var = \"This is global variable\"\n",
    "\n",
    "def test_life_time():\n",
    "    '''\n",
    "    This function test the life time of a variable\n",
    "    \n",
    "    '''\n",
    "    local_var = \"This is local variable\"\n",
    "    \n",
    "    global a\n",
    "    a = 12\n",
    "    \n",
    "    print(local_var)\n",
    "    \n",
    "    print(global_var)"
   ]
  },
  {
   "cell_type": "code",
   "execution_count": 18,
   "id": "4fb2755b",
   "metadata": {},
   "outputs": [
    {
     "name": "stdout",
     "output_type": "stream",
     "text": [
      "This is local variable\n",
      "This is global variable\n"
     ]
    }
   ],
   "source": [
    "test_life_time()"
   ]
  },
  {
   "cell_type": "code",
   "execution_count": 19,
   "id": "92f6e61b",
   "metadata": {},
   "outputs": [
    {
     "name": "stdout",
     "output_type": "stream",
     "text": [
      "12\n"
     ]
    }
   ],
   "source": [
    "print(a)"
   ]
  },
  {
   "cell_type": "code",
   "execution_count": null,
   "id": "13709d93",
   "metadata": {},
   "outputs": [],
   "source": [
    "#In-built function"
   ]
  },
  {
   "cell_type": "code",
   "execution_count": 20,
   "id": "ae7db04b",
   "metadata": {},
   "outputs": [
    {
     "name": "stdout",
     "output_type": "stream",
     "text": [
      "456\n"
     ]
    }
   ],
   "source": [
    "# find the absolute value\n",
    "\n",
    "num = -456\n",
    "\n",
    "print(abs(num))"
   ]
  },
  {
   "cell_type": "code",
   "execution_count": 21,
   "id": "5f8b0013",
   "metadata": {},
   "outputs": [
    {
     "data": {
      "text/plain": [
       "8765"
      ]
     },
     "execution_count": 21,
     "metadata": {},
     "output_type": "execute_result"
    }
   ],
   "source": [
    "abs(-8765)"
   ]
  },
  {
   "cell_type": "code",
   "execution_count": 22,
   "id": "c8a4c8cc",
   "metadata": {},
   "outputs": [
    {
     "data": {
      "text/plain": [
       "7654"
      ]
     },
     "execution_count": 22,
     "metadata": {},
     "output_type": "execute_result"
    }
   ],
   "source": [
    "abs(7654)"
   ]
  },
  {
   "cell_type": "code",
   "execution_count": null,
   "id": "1ee99e78",
   "metadata": {},
   "outputs": [],
   "source": [
    "all()"
   ]
  },
  {
   "cell_type": "code",
   "execution_count": 23,
   "id": "3d809f5d",
   "metadata": {},
   "outputs": [
    {
     "name": "stdout",
     "output_type": "stream",
     "text": [
      "True\n"
     ]
    }
   ],
   "source": [
    "lst = [1,2,3,4]\n",
    "\n",
    "print(all(lst))"
   ]
  },
  {
   "cell_type": "code",
   "execution_count": 24,
   "id": "eb839c31",
   "metadata": {},
   "outputs": [
    {
     "name": "stdout",
     "output_type": "stream",
     "text": [
      "False\n"
     ]
    }
   ],
   "source": [
    "lst = [1,2,0,4]\n",
    "print(all(lst))"
   ]
  },
  {
   "cell_type": "code",
   "execution_count": 25,
   "id": "4a257ef5",
   "metadata": {},
   "outputs": [
    {
     "name": "stdout",
     "output_type": "stream",
     "text": [
      "True\n"
     ]
    }
   ],
   "source": [
    "lst = []\n",
    "print(all(lst)) # empty list is always true"
   ]
  },
  {
   "cell_type": "code",
   "execution_count": 26,
   "id": "01bae1c0",
   "metadata": {},
   "outputs": [
    {
     "name": "stdout",
     "output_type": "stream",
     "text": [
      "False\n"
     ]
    }
   ],
   "source": [
    "lst = [1,2,3,False,4]\n",
    "print(all(lst))"
   ]
  },
  {
   "cell_type": "code",
   "execution_count": 27,
   "id": "8b1a5964",
   "metadata": {},
   "outputs": [
    {
     "name": "stdout",
     "output_type": "stream",
     "text": [
      "True\n"
     ]
    }
   ],
   "source": [
    "lst = [1,2,3,True,4]\n",
    "print(all(lst))"
   ]
  },
  {
   "cell_type": "code",
   "execution_count": 28,
   "id": "e93fb327",
   "metadata": {},
   "outputs": [
    {
     "name": "stdout",
     "output_type": "stream",
     "text": [
      "True\n"
     ]
    }
   ],
   "source": [
    "lst = [-1,2,3,True,4]\n",
    "print(all(lst))"
   ]
  },
  {
   "cell_type": "code",
   "execution_count": 29,
   "id": "833c54fe",
   "metadata": {},
   "outputs": [
    {
     "name": "stdout",
     "output_type": "stream",
     "text": [
      "True\n"
     ]
    }
   ],
   "source": [
    "lst = [-1,-2.98,3,4]\n",
    "print(all(lst))"
   ]
  },
  {
   "cell_type": "code",
   "execution_count": null,
   "id": "3318e611",
   "metadata": {},
   "outputs": [],
   "source": [
    "dir()\n",
    "# dir tries to return a list of valid attributes of the object"
   ]
  },
  {
   "cell_type": "code",
   "execution_count": 30,
   "id": "50f100a4",
   "metadata": {},
   "outputs": [
    {
     "name": "stdout",
     "output_type": "stream",
     "text": [
      "['__add__', '__class__', '__class_getitem__', '__contains__', '__delattr__', '__delitem__', '__dir__', '__doc__', '__eq__', '__format__', '__ge__', '__getattribute__', '__getitem__', '__getstate__', '__gt__', '__hash__', '__iadd__', '__imul__', '__init__', '__init_subclass__', '__iter__', '__le__', '__len__', '__lt__', '__mul__', '__ne__', '__new__', '__reduce__', '__reduce_ex__', '__repr__', '__reversed__', '__rmul__', '__setattr__', '__setitem__', '__sizeof__', '__str__', '__subclasshook__', 'append', 'clear', 'copy', 'count', 'extend', 'index', 'insert', 'pop', 'remove', 'reverse', 'sort']\n"
     ]
    }
   ],
   "source": [
    "num = [1,2,3]\n",
    "\n",
    "print(dir(num))"
   ]
  },
  {
   "cell_type": "code",
   "execution_count": 31,
   "id": "55caa4ac",
   "metadata": {},
   "outputs": [
    {
     "name": "stdout",
     "output_type": "stream",
     "text": [
      "(2, 5)\n"
     ]
    }
   ],
   "source": [
    "#divmod()\n",
    "\n",
    "# takes two numbers and returns a pair of number(tuple) consisting of quotient and remainder\n",
    "\n",
    "print(divmod(19, 7))"
   ]
  },
  {
   "cell_type": "code",
   "execution_count": 32,
   "id": "e2515619",
   "metadata": {},
   "outputs": [
    {
     "name": "stdout",
     "output_type": "stream",
     "text": [
      "(7, 3)\n"
     ]
    }
   ],
   "source": [
    "print(divmod(45, 6))"
   ]
  },
  {
   "cell_type": "code",
   "execution_count": null,
   "id": "3f86b7a0",
   "metadata": {},
   "outputs": [],
   "source": [
    "#enumerate()"
   ]
  },
  {
   "cell_type": "code",
   "execution_count": 33,
   "id": "c505fa8d",
   "metadata": {},
   "outputs": [
    {
     "name": "stdout",
     "output_type": "stream",
     "text": [
      "index 10 has value 10\n",
      "index 11 has value 20\n",
      "index 12 has value 30\n",
      "index 13 has value 40\n"
     ]
    }
   ],
   "source": [
    "num = [10, 20, 30, 40]\n",
    "\n",
    "for index, i in enumerate(num, 10):\n",
    "    print(\"index {0} has value {1}\".format(index, i))"
   ]
  },
  {
   "cell_type": "code",
   "execution_count": 34,
   "id": "f354ca95",
   "metadata": {},
   "outputs": [
    {
     "name": "stdout",
     "output_type": "stream",
     "text": [
      "index 20 has value 10\n",
      "index 21 has value 20\n",
      "index 22 has value 30\n",
      "index 23 has value 40\n"
     ]
    }
   ],
   "source": [
    "num = [10, 20, 30, 40]\n",
    "\n",
    "for index, i in enumerate(num, 20):\n",
    "    print(\"index {0} has value {1}\".format(index, i))"
   ]
  },
  {
   "cell_type": "code",
   "execution_count": 35,
   "id": "7b75a93b",
   "metadata": {},
   "outputs": [
    {
     "name": "stdout",
     "output_type": "stream",
     "text": [
      "index 0 has value 10\n",
      "index 1 has value 20\n",
      "index 2 has value 30\n",
      "index 3 has value 40\n"
     ]
    }
   ],
   "source": [
    "num = [10, 20, 30, 40]\n",
    "\n",
    "for index, i in enumerate(num):\n",
    "    print(\"index {0} has value {1}\".format(index, i))"
   ]
  },
  {
   "cell_type": "code",
   "execution_count": null,
   "id": "8ae05cb2",
   "metadata": {},
   "outputs": [],
   "source": [
    "#filter()"
   ]
  },
  {
   "cell_type": "code",
   "execution_count": 36,
   "id": "84785475",
   "metadata": {},
   "outputs": [],
   "source": [
    "def find_positive(num):\n",
    "    if num > 0:\n",
    "        return num"
   ]
  },
  {
   "cell_type": "code",
   "execution_count": 37,
   "id": "7208f3bd",
   "metadata": {},
   "outputs": [
    {
     "data": {
      "text/plain": [
       "13"
      ]
     },
     "execution_count": 37,
     "metadata": {},
     "output_type": "execute_result"
    }
   ],
   "source": [
    "find_positive(13)"
   ]
  },
  {
   "cell_type": "code",
   "execution_count": 39,
   "id": "294e2f78",
   "metadata": {},
   "outputs": [],
   "source": [
    "find_positive(-13)"
   ]
  },
  {
   "cell_type": "code",
   "execution_count": 40,
   "id": "4ef64163",
   "metadata": {},
   "outputs": [
    {
     "ename": "TypeError",
     "evalue": "'>' not supported between instances of 'list' and 'int'",
     "output_type": "error",
     "traceback": [
      "\u001b[0;31m---------------------------------------------------------------------------\u001b[0m",
      "\u001b[0;31mTypeError\u001b[0m                                 Traceback (most recent call last)",
      "Cell \u001b[0;32mIn[40], line 1\u001b[0m\n\u001b[0;32m----> 1\u001b[0m find_positive([\u001b[38;5;241m1\u001b[39m,\u001b[38;5;241m2\u001b[39m,\u001b[38;5;241m3\u001b[39m])\n",
      "Cell \u001b[0;32mIn[36], line 2\u001b[0m, in \u001b[0;36mfind_positive\u001b[0;34m(num)\u001b[0m\n\u001b[1;32m      1\u001b[0m \u001b[38;5;28;01mdef\u001b[39;00m \u001b[38;5;21mfind_positive\u001b[39m(num):\n\u001b[0;32m----> 2\u001b[0m     \u001b[38;5;28;01mif\u001b[39;00m num \u001b[38;5;241m>\u001b[39m \u001b[38;5;241m0\u001b[39m:\n\u001b[1;32m      3\u001b[0m         \u001b[38;5;28;01mreturn\u001b[39;00m num\n",
      "\u001b[0;31mTypeError\u001b[0m: '>' not supported between instances of 'list' and 'int'"
     ]
    }
   ],
   "source": [
    "find_positive()"
   ]
  },
  {
   "cell_type": "code",
   "execution_count": 41,
   "id": "1a68c1cf",
   "metadata": {},
   "outputs": [],
   "source": [
    "def find_positive(*args):\n",
    "    if num > 0:\n",
    "        return num"
   ]
  },
  {
   "cell_type": "code",
   "execution_count": 42,
   "id": "37c459eb",
   "metadata": {},
   "outputs": [
    {
     "ename": "TypeError",
     "evalue": "'>' not supported between instances of 'list' and 'int'",
     "output_type": "error",
     "traceback": [
      "\u001b[0;31m---------------------------------------------------------------------------\u001b[0m",
      "\u001b[0;31mTypeError\u001b[0m                                 Traceback (most recent call last)",
      "Cell \u001b[0;32mIn[42], line 1\u001b[0m\n\u001b[0;32m----> 1\u001b[0m find_positive(\u001b[38;5;241m1\u001b[39m,\u001b[38;5;241m6\u001b[39m,\u001b[38;5;241m8\u001b[39m,\u001b[38;5;241m23\u001b[39m)\n",
      "Cell \u001b[0;32mIn[41], line 2\u001b[0m, in \u001b[0;36mfind_positive\u001b[0;34m(*args)\u001b[0m\n\u001b[1;32m      1\u001b[0m \u001b[38;5;28;01mdef\u001b[39;00m \u001b[38;5;21mfind_positive\u001b[39m(\u001b[38;5;241m*\u001b[39margs):\n\u001b[0;32m----> 2\u001b[0m     \u001b[38;5;28;01mif\u001b[39;00m num \u001b[38;5;241m>\u001b[39m \u001b[38;5;241m0\u001b[39m:\n\u001b[1;32m      3\u001b[0m         \u001b[38;5;28;01mreturn\u001b[39;00m num\n",
      "\u001b[0;31mTypeError\u001b[0m: '>' not supported between instances of 'list' and 'int'"
     ]
    }
   ],
   "source": [
    "find_positive(1,6,8,23)"
   ]
  },
  {
   "cell_type": "code",
   "execution_count": 45,
   "id": "3479d708",
   "metadata": {},
   "outputs": [],
   "source": [
    "def find_positive(num):\n",
    "    if num > 0:\n",
    "        return num"
   ]
  },
  {
   "cell_type": "code",
   "execution_count": 43,
   "id": "66595abd",
   "metadata": {},
   "outputs": [
    {
     "name": "stdout",
     "output_type": "stream",
     "text": [
      "[-10, -9, -8, -7, -6, -5, -4, -3, -2, -1, 0, 1, 2, 3, 4, 5, 6, 7, 8, 9]\n"
     ]
    }
   ],
   "source": [
    "number_list = range(-10,10)\n",
    "print(list(number_list))"
   ]
  },
  {
   "cell_type": "code",
   "execution_count": 44,
   "id": "f030bfec",
   "metadata": {},
   "outputs": [
    {
     "data": {
      "text/plain": [
       "range(-10, 10)"
      ]
     },
     "execution_count": 44,
     "metadata": {},
     "output_type": "execute_result"
    }
   ],
   "source": [
    "number_list"
   ]
  },
  {
   "cell_type": "code",
   "execution_count": 46,
   "id": "8c555ed6",
   "metadata": {},
   "outputs": [
    {
     "name": "stdout",
     "output_type": "stream",
     "text": [
      "[1, 2, 3, 4, 5, 6, 7, 8, 9]\n"
     ]
    }
   ],
   "source": [
    "positive_num_lst = list(filter(find_positive, number_list ))\n",
    "print(positive_num_lst)"
   ]
  },
  {
   "cell_type": "code",
   "execution_count": 47,
   "id": "20f1b18e",
   "metadata": {},
   "outputs": [
    {
     "name": "stdout",
     "output_type": "stream",
     "text": [
      "[32, 56, 78]\n"
     ]
    }
   ],
   "source": [
    "print(list(filter(find_positive, [32, -67, -98, 56, 78])))"
   ]
  },
  {
   "cell_type": "code",
   "execution_count": null,
   "id": "69ae5660",
   "metadata": {},
   "outputs": [],
   "source": [
    "#isinstance()"
   ]
  },
  {
   "cell_type": "code",
   "execution_count": 48,
   "id": "a7b9f5b3",
   "metadata": {},
   "outputs": [
    {
     "name": "stdout",
     "output_type": "stream",
     "text": [
      "True\n"
     ]
    }
   ],
   "source": [
    "lst = [1,2,3,4]\n",
    "print(isinstance(lst, list))"
   ]
  },
  {
   "cell_type": "code",
   "execution_count": 49,
   "id": "f5639212",
   "metadata": {},
   "outputs": [
    {
     "name": "stdout",
     "output_type": "stream",
     "text": [
      "False\n"
     ]
    }
   ],
   "source": [
    "t = (1,2,3,4)\n",
    "print(isinstance(t, list))"
   ]
  },
  {
   "cell_type": "code",
   "execution_count": 51,
   "id": "5a7a02ed",
   "metadata": {},
   "outputs": [
    {
     "name": "stdout",
     "output_type": "stream",
     "text": [
      "True\n"
     ]
    }
   ],
   "source": [
    "a = 2.56\n",
    "print(isinstance(a, float))"
   ]
  },
  {
   "cell_type": "code",
   "execution_count": null,
   "id": "8c27bccc",
   "metadata": {},
   "outputs": [],
   "source": [
    "#map()"
   ]
  },
  {
   "cell_type": "code",
   "execution_count": 52,
   "id": "ccc54ade",
   "metadata": {},
   "outputs": [
    {
     "name": "stdout",
     "output_type": "stream",
     "text": [
      "[1, 4, 9, 16]\n"
     ]
    }
   ],
   "source": [
    "number = [1, 2, 3, 4]\n",
    "\n",
    "squared = []\n",
    "for num in number:\n",
    "    squared.append(num ** 2)\n",
    "    \n",
    "print(squared)    "
   ]
  },
  {
   "cell_type": "code",
   "execution_count": 53,
   "id": "95019c88",
   "metadata": {},
   "outputs": [
    {
     "name": "stdout",
     "output_type": "stream",
     "text": [
      "[9, 36, 49, 64]\n"
     ]
    }
   ],
   "source": [
    "number1 = [3,6,7,8]\n",
    "\n",
    "def powerofTwo(num):\n",
    "    return num ** 2\n",
    "\n",
    "# using map() function\n",
    "\n",
    "squared = list(map(powerofTwo, number1))\n",
    "print(squared)"
   ]
  },
  {
   "cell_type": "code",
   "execution_count": null,
   "id": "0d53ca8a",
   "metadata": {},
   "outputs": [],
   "source": [
    "# reduce()"
   ]
  },
  {
   "cell_type": "code",
   "execution_count": 54,
   "id": "54f5d22b",
   "metadata": {},
   "outputs": [
    {
     "name": "stdout",
     "output_type": "stream",
     "text": [
      "24\n"
     ]
    }
   ],
   "source": [
    "product = 1\n",
    "lst = [1,2,3,4]\n",
    "\n",
    "# traditional program without reduce\n",
    "\n",
    "for num in lst:\n",
    "    product = product * num\n",
    "    \n",
    "print(product)    "
   ]
  },
  {
   "cell_type": "code",
   "execution_count": 57,
   "id": "2184ba22",
   "metadata": {},
   "outputs": [
    {
     "name": "stdout",
     "output_type": "stream",
     "text": [
      "24\n"
     ]
    }
   ],
   "source": [
    "from functools import reduce\n",
    "def multiply(x,y):\n",
    "    return x * y\n",
    "\n",
    "product = reduce(multiply, lst)\n",
    "print(product)"
   ]
  },
  {
   "cell_type": "code",
   "execution_count": null,
   "id": "81050056",
   "metadata": {},
   "outputs": [],
   "source": []
  },
  {
   "cell_type": "code",
   "execution_count": null,
   "id": "7a9bbad3",
   "metadata": {},
   "outputs": [],
   "source": []
  },
  {
   "cell_type": "code",
   "execution_count": null,
   "id": "d55b14ef",
   "metadata": {},
   "outputs": [],
   "source": []
  },
  {
   "cell_type": "code",
   "execution_count": null,
   "id": "aba763b5",
   "metadata": {},
   "outputs": [],
   "source": []
  },
  {
   "cell_type": "code",
   "execution_count": null,
   "id": "30552faa",
   "metadata": {},
   "outputs": [],
   "source": []
  },
  {
   "cell_type": "code",
   "execution_count": null,
   "id": "682a5047",
   "metadata": {},
   "outputs": [],
   "source": []
  },
  {
   "cell_type": "code",
   "execution_count": null,
   "id": "d090ab5a",
   "metadata": {},
   "outputs": [],
   "source": []
  }
 ],
 "metadata": {
  "kernelspec": {
   "display_name": "Python 3 (ipykernel)",
   "language": "python",
   "name": "python3"
  },
  "language_info": {
   "codemirror_mode": {
    "name": "ipython",
    "version": 3
   },
   "file_extension": ".py",
   "mimetype": "text/x-python",
   "name": "python",
   "nbconvert_exporter": "python",
   "pygments_lexer": "ipython3",
   "version": "3.11.4"
  }
 },
 "nbformat": 4,
 "nbformat_minor": 5
}
